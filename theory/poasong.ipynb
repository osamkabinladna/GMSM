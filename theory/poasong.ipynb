{
 "cells": [
  {
   "metadata": {
    "ExecuteTime": {
     "end_time": "2025-03-26T11:05:59.586098Z",
     "start_time": "2025-03-26T11:05:59.287304Z"
    }
   },
   "cell_type": "code",
   "source": [
    "import numpy as np\n",
    "import matplotlib.pyplot as plt"
   ],
   "id": "21da9c66c321cca1",
   "outputs": [],
   "execution_count": 1
  },
  {
   "metadata": {
    "ExecuteTime": {
     "end_time": "2025-03-26T11:13:43.438119Z",
     "start_time": "2025-03-26T11:13:43.419274Z"
    }
   },
   "cell_type": "code",
   "source": [
    "def generate_poisson_arrivals(T, frequency):\n",
    "\n",
    "    arrivals = []\n",
    "    current_time = 0\n",
    "\n",
    "    # Generate arrivals until we exceed T\n",
    "    while True:\n",
    "        interarrival = np.random.exponential(1/frequency)\n",
    "        current_time += interarrival\n",
    "\n",
    "        if current_time < T:\n",
    "            arrivals.append(current_time)\n",
    "        else:\n",
    "            break\n",
    "\n",
    "    return np.array(arrivals)"
   ],
   "id": "e48ad74d3789d293",
   "outputs": [],
   "execution_count": 2
  },
  {
   "metadata": {
    "ExecuteTime": {
     "end_time": "2025-03-26T11:36:51.478051Z",
     "start_time": "2025-03-26T11:36:51.465209Z"
    }
   },
   "cell_type": "code",
   "source": [
    "def generate_multifractal_measure(T, frequencies, multiplier_distribution, depth=10):\n",
    "\n",
    "    n_points = 1000  # Resolution of the measure\n",
    "    x = np.linspace(0, T, n_points + 1)\n",
    "    measure = np.ones(n_points)\n",
    "\n",
    "    for i, freq in enumerate(frequencies):\n",
    "        arrivals = generate_poisson_arrivals(T, freq)\n",
    "\n",
    "        # Add endpoints\n",
    "        arrival_points = np.sort(np.concatenate([[0], arrivals, [T]]))\n",
    "\n",
    "        for j in range(len(arrival_points) - 1):\n",
    "            start_idx = np.searchsorted(x, arrival_points[j], side='left')\n",
    "            end_idx = np.searchsorted(x, arrival_points[j+1], side='right')\n",
    "\n",
    "            m = multiplier_distribution()\n",
    "\n",
    "            measure[start_idx:end_idx] *= m\n",
    "\n",
    "    interval_width = T / n_points\n",
    "    total_mass = np.sum(measure * interval_width)\n",
    "    normalized_measure = measure / total_mass\n",
    "\n",
    "    cdf = np.zeros(n_points + 1)\n",
    "    np.cumsum(normalized_measure * interval_width, out=cdf[1:])\n",
    "\n",
    "    return x, measure, cdf\n",
    "\n",
    "\n",
    "\n",
    "def generate_brownian_motion(T=1.0, N=1000, seed=None):\n",
    "    if seed is not None:\n",
    "        np.random.seed(seed)\n",
    "\n",
    "    t = np.linspace(0, T, N)\n",
    "    dt = T / (N - 1)\n",
    "\n",
    "    dW = np.random.normal(0, np.sqrt(dt), N-1)\n",
    "\n",
    "    B = np.zeros(N)\n",
    "    B[1:] = np.cumsum(dW)\n",
    "\n",
    "    return t, B"
   ],
   "id": "f94aeb4cb0f75c33",
   "outputs": [],
   "execution_count": 3
  },
  {
   "metadata": {
    "ExecuteTime": {
     "end_time": "2025-03-26T11:36:53.502431Z",
     "start_time": "2025-03-26T11:36:53.498078Z"
    }
   },
   "cell_type": "code",
   "source": [
    "def compound_process(t, B, x_cdf, cdf):\n",
    "    theta_t = np.interp(t, x_cdf, cdf)\n",
    "    X = np.interp(theta_t, np.linspace(0, 1, len(B)), B)\n",
    "    return X\n",
    "\n",
    "def lognormal_multiplier_generator(mu=-0.1, sigma=0.3):\n",
    "\n",
    "    adjusted_mu = -sigma**2/2\n",
    "\n",
    "    def generator():\n",
    "        return np.random.lognormal(adjusted_mu, sigma)\n",
    "\n",
    "    return generator"
   ],
   "id": "9ed20e5f25acc85e",
   "outputs": [],
   "execution_count": 4
  },
  {
   "metadata": {
    "collapsed": true
   },
   "cell_type": "code",
   "outputs": [],
   "execution_count": null,
   "source": "",
   "id": "initial_id"
  }
 ],
 "metadata": {
  "kernelspec": {
   "display_name": "Python 3",
   "language": "python",
   "name": "python3"
  },
  "language_info": {
   "codemirror_mode": {
    "name": "ipython",
    "version": 2
   },
   "file_extension": ".py",
   "mimetype": "text/x-python",
   "name": "python",
   "nbconvert_exporter": "python",
   "pygments_lexer": "ipython2",
   "version": "2.7.6"
  }
 },
 "nbformat": 4,
 "nbformat_minor": 5
}
